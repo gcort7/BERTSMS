{
  "nbformat": 4,
  "nbformat_minor": 0,
  "metadata": {
    "colab": {
      "provenance": [],
      "machine_shape": "hm"
    },
    "kernelspec": {
      "name": "python3",
      "display_name": "Python 3"
    },
    "language_info": {
      "name": "python"
    },
    "widgets": {
      "application/vnd.jupyter.widget-state+json": {
        "6d57e26ce5f34360a6106862a8195d3c": {
          "model_module": "@jupyter-widgets/controls",
          "model_name": "HBoxModel",
          "model_module_version": "1.5.0",
          "state": {
            "_dom_classes": [],
            "_model_module": "@jupyter-widgets/controls",
            "_model_module_version": "1.5.0",
            "_model_name": "HBoxModel",
            "_view_count": null,
            "_view_module": "@jupyter-widgets/controls",
            "_view_module_version": "1.5.0",
            "_view_name": "HBoxView",
            "box_style": "",
            "children": [
              "IPY_MODEL_183f36986e1a445e8dcda3b6d298a59d",
              "IPY_MODEL_2d518f42197740268f1c1eb46229cdf8",
              "IPY_MODEL_bd8b71fc5df043feb3ea63c42959c822"
            ],
            "layout": "IPY_MODEL_15be6692cf5f45b3a0c12e1e1cd19f80"
          }
        },
        "183f36986e1a445e8dcda3b6d298a59d": {
          "model_module": "@jupyter-widgets/controls",
          "model_name": "HTMLModel",
          "model_module_version": "1.5.0",
          "state": {
            "_dom_classes": [],
            "_model_module": "@jupyter-widgets/controls",
            "_model_module_version": "1.5.0",
            "_model_name": "HTMLModel",
            "_view_count": null,
            "_view_module": "@jupyter-widgets/controls",
            "_view_module_version": "1.5.0",
            "_view_name": "HTMLView",
            "description": "",
            "description_tooltip": null,
            "layout": "IPY_MODEL_3bf3433908f749d19342e92443dfccd8",
            "placeholder": "​",
            "style": "IPY_MODEL_043f59fa6ef04d6a8c272f3ee3c22f00",
            "value": "Map: 100%"
          }
        },
        "2d518f42197740268f1c1eb46229cdf8": {
          "model_module": "@jupyter-widgets/controls",
          "model_name": "FloatProgressModel",
          "model_module_version": "1.5.0",
          "state": {
            "_dom_classes": [],
            "_model_module": "@jupyter-widgets/controls",
            "_model_module_version": "1.5.0",
            "_model_name": "FloatProgressModel",
            "_view_count": null,
            "_view_module": "@jupyter-widgets/controls",
            "_view_module_version": "1.5.0",
            "_view_name": "ProgressView",
            "bar_style": "success",
            "description": "",
            "description_tooltip": null,
            "layout": "IPY_MODEL_f573d8015e224665bede324d05a1bf62",
            "max": 4354,
            "min": 0,
            "orientation": "horizontal",
            "style": "IPY_MODEL_d7832dcc6dd44cf2a93ec9daff4dd5ab",
            "value": 4354
          }
        },
        "bd8b71fc5df043feb3ea63c42959c822": {
          "model_module": "@jupyter-widgets/controls",
          "model_name": "HTMLModel",
          "model_module_version": "1.5.0",
          "state": {
            "_dom_classes": [],
            "_model_module": "@jupyter-widgets/controls",
            "_model_module_version": "1.5.0",
            "_model_name": "HTMLModel",
            "_view_count": null,
            "_view_module": "@jupyter-widgets/controls",
            "_view_module_version": "1.5.0",
            "_view_name": "HTMLView",
            "description": "",
            "description_tooltip": null,
            "layout": "IPY_MODEL_f258c47776d64a88bcb2f522342c5de2",
            "placeholder": "​",
            "style": "IPY_MODEL_3c749f1e666a48c284ef4f5f645badd6",
            "value": " 4354/4354 [00:01&lt;00:00, 2282.69 examples/s]"
          }
        },
        "15be6692cf5f45b3a0c12e1e1cd19f80": {
          "model_module": "@jupyter-widgets/base",
          "model_name": "LayoutModel",
          "model_module_version": "1.2.0",
          "state": {
            "_model_module": "@jupyter-widgets/base",
            "_model_module_version": "1.2.0",
            "_model_name": "LayoutModel",
            "_view_count": null,
            "_view_module": "@jupyter-widgets/base",
            "_view_module_version": "1.2.0",
            "_view_name": "LayoutView",
            "align_content": null,
            "align_items": null,
            "align_self": null,
            "border": null,
            "bottom": null,
            "display": null,
            "flex": null,
            "flex_flow": null,
            "grid_area": null,
            "grid_auto_columns": null,
            "grid_auto_flow": null,
            "grid_auto_rows": null,
            "grid_column": null,
            "grid_gap": null,
            "grid_row": null,
            "grid_template_areas": null,
            "grid_template_columns": null,
            "grid_template_rows": null,
            "height": null,
            "justify_content": null,
            "justify_items": null,
            "left": null,
            "margin": null,
            "max_height": null,
            "max_width": null,
            "min_height": null,
            "min_width": null,
            "object_fit": null,
            "object_position": null,
            "order": null,
            "overflow": null,
            "overflow_x": null,
            "overflow_y": null,
            "padding": null,
            "right": null,
            "top": null,
            "visibility": null,
            "width": null
          }
        },
        "3bf3433908f749d19342e92443dfccd8": {
          "model_module": "@jupyter-widgets/base",
          "model_name": "LayoutModel",
          "model_module_version": "1.2.0",
          "state": {
            "_model_module": "@jupyter-widgets/base",
            "_model_module_version": "1.2.0",
            "_model_name": "LayoutModel",
            "_view_count": null,
            "_view_module": "@jupyter-widgets/base",
            "_view_module_version": "1.2.0",
            "_view_name": "LayoutView",
            "align_content": null,
            "align_items": null,
            "align_self": null,
            "border": null,
            "bottom": null,
            "display": null,
            "flex": null,
            "flex_flow": null,
            "grid_area": null,
            "grid_auto_columns": null,
            "grid_auto_flow": null,
            "grid_auto_rows": null,
            "grid_column": null,
            "grid_gap": null,
            "grid_row": null,
            "grid_template_areas": null,
            "grid_template_columns": null,
            "grid_template_rows": null,
            "height": null,
            "justify_content": null,
            "justify_items": null,
            "left": null,
            "margin": null,
            "max_height": null,
            "max_width": null,
            "min_height": null,
            "min_width": null,
            "object_fit": null,
            "object_position": null,
            "order": null,
            "overflow": null,
            "overflow_x": null,
            "overflow_y": null,
            "padding": null,
            "right": null,
            "top": null,
            "visibility": null,
            "width": null
          }
        },
        "043f59fa6ef04d6a8c272f3ee3c22f00": {
          "model_module": "@jupyter-widgets/controls",
          "model_name": "DescriptionStyleModel",
          "model_module_version": "1.5.0",
          "state": {
            "_model_module": "@jupyter-widgets/controls",
            "_model_module_version": "1.5.0",
            "_model_name": "DescriptionStyleModel",
            "_view_count": null,
            "_view_module": "@jupyter-widgets/base",
            "_view_module_version": "1.2.0",
            "_view_name": "StyleView",
            "description_width": ""
          }
        },
        "f573d8015e224665bede324d05a1bf62": {
          "model_module": "@jupyter-widgets/base",
          "model_name": "LayoutModel",
          "model_module_version": "1.2.0",
          "state": {
            "_model_module": "@jupyter-widgets/base",
            "_model_module_version": "1.2.0",
            "_model_name": "LayoutModel",
            "_view_count": null,
            "_view_module": "@jupyter-widgets/base",
            "_view_module_version": "1.2.0",
            "_view_name": "LayoutView",
            "align_content": null,
            "align_items": null,
            "align_self": null,
            "border": null,
            "bottom": null,
            "display": null,
            "flex": null,
            "flex_flow": null,
            "grid_area": null,
            "grid_auto_columns": null,
            "grid_auto_flow": null,
            "grid_auto_rows": null,
            "grid_column": null,
            "grid_gap": null,
            "grid_row": null,
            "grid_template_areas": null,
            "grid_template_columns": null,
            "grid_template_rows": null,
            "height": null,
            "justify_content": null,
            "justify_items": null,
            "left": null,
            "margin": null,
            "max_height": null,
            "max_width": null,
            "min_height": null,
            "min_width": null,
            "object_fit": null,
            "object_position": null,
            "order": null,
            "overflow": null,
            "overflow_x": null,
            "overflow_y": null,
            "padding": null,
            "right": null,
            "top": null,
            "visibility": null,
            "width": null
          }
        },
        "d7832dcc6dd44cf2a93ec9daff4dd5ab": {
          "model_module": "@jupyter-widgets/controls",
          "model_name": "ProgressStyleModel",
          "model_module_version": "1.5.0",
          "state": {
            "_model_module": "@jupyter-widgets/controls",
            "_model_module_version": "1.5.0",
            "_model_name": "ProgressStyleModel",
            "_view_count": null,
            "_view_module": "@jupyter-widgets/base",
            "_view_module_version": "1.2.0",
            "_view_name": "StyleView",
            "bar_color": null,
            "description_width": ""
          }
        },
        "f258c47776d64a88bcb2f522342c5de2": {
          "model_module": "@jupyter-widgets/base",
          "model_name": "LayoutModel",
          "model_module_version": "1.2.0",
          "state": {
            "_model_module": "@jupyter-widgets/base",
            "_model_module_version": "1.2.0",
            "_model_name": "LayoutModel",
            "_view_count": null,
            "_view_module": "@jupyter-widgets/base",
            "_view_module_version": "1.2.0",
            "_view_name": "LayoutView",
            "align_content": null,
            "align_items": null,
            "align_self": null,
            "border": null,
            "bottom": null,
            "display": null,
            "flex": null,
            "flex_flow": null,
            "grid_area": null,
            "grid_auto_columns": null,
            "grid_auto_flow": null,
            "grid_auto_rows": null,
            "grid_column": null,
            "grid_gap": null,
            "grid_row": null,
            "grid_template_areas": null,
            "grid_template_columns": null,
            "grid_template_rows": null,
            "height": null,
            "justify_content": null,
            "justify_items": null,
            "left": null,
            "margin": null,
            "max_height": null,
            "max_width": null,
            "min_height": null,
            "min_width": null,
            "object_fit": null,
            "object_position": null,
            "order": null,
            "overflow": null,
            "overflow_x": null,
            "overflow_y": null,
            "padding": null,
            "right": null,
            "top": null,
            "visibility": null,
            "width": null
          }
        },
        "3c749f1e666a48c284ef4f5f645badd6": {
          "model_module": "@jupyter-widgets/controls",
          "model_name": "DescriptionStyleModel",
          "model_module_version": "1.5.0",
          "state": {
            "_model_module": "@jupyter-widgets/controls",
            "_model_module_version": "1.5.0",
            "_model_name": "DescriptionStyleModel",
            "_view_count": null,
            "_view_module": "@jupyter-widgets/base",
            "_view_module_version": "1.2.0",
            "_view_name": "StyleView",
            "description_width": ""
          }
        }
      }
    }
  },
  "cells": [
    {
      "cell_type": "markdown",
      "source": [
        "# HOW TO FINE TUNE BERT FOR SPAM CLASIFICATION\n",
        "**Important information**: Model was trained with A100 GPU\n",
        "### Les't first download packages"
      ],
      "metadata": {
        "id": "KRTxSXx5Mbcq"
      }
    },
    {
      "cell_type": "code",
      "execution_count": null,
      "metadata": {
        "id": "pCoYriKf1EJZ"
      },
      "outputs": [],
      "source": [
        "!pip install -q transformers==4.51.3\n",
        "!pip install -q kaggle==1.7.4.2\n",
        "!pip install -q dill==0.3.8\n",
        "!pip install -q datasets==3.5.0"
      ]
    },
    {
      "cell_type": "markdown",
      "source": [
        "### Let's import packages for data processing, BERT model, and analysis"
      ],
      "metadata": {
        "id": "mQ7BCC4LOZJW"
      }
    },
    {
      "cell_type": "code",
      "source": [
        "import torch\n",
        "import shutil\n",
        "import pandas as pd\n",
        "import numpy as np\n",
        "from datasets import Dataset\n",
        "from transformers import BertForSequenceClassification, BertTokenizerFast, Trainer, TrainingArguments\n",
        "from sklearn.metrics import classification_report, confusion_matrix, ConfusionMatrixDisplay"
      ],
      "metadata": {
        "id": "3MNcv7qS1J5M"
      },
      "execution_count": null,
      "outputs": []
    },
    {
      "cell_type": "markdown",
      "source": [
        "### Use Kaggle API token to download datasets for training\n",
        "\n",
        "You can create an account in Kaggle and download the file kaggle.json into your local computer. Then you can upload it here."
      ],
      "metadata": {
        "id": "44kK3-50OsYH"
      }
    },
    {
      "cell_type": "code",
      "source": [
        "from google.colab import files\n",
        "files.upload()\n",
        "!mkdir /.kaggle\n",
        "!mv kaggle.json /.kaggle\n",
        "!mv /.kaggle /root/\n",
        "!chmod 600 ~/.kaggle/kaggle.json"
      ],
      "metadata": {
        "colab": {
          "base_uri": "https://localhost:8080/",
          "height": 73
        },
        "id": "a-L8IIlo1N7j",
        "outputId": "83d16b40-0d1e-41ef-dd4c-88ddf730100e"
      },
      "execution_count": null,
      "outputs": [
        {
          "output_type": "display_data",
          "data": {
            "text/plain": [
              "<IPython.core.display.HTML object>"
            ],
            "text/html": [
              "\n",
              "     <input type=\"file\" id=\"files-31b2139f-99c3-4889-a23a-5c34632a9769\" name=\"files[]\" multiple disabled\n",
              "        style=\"border:none\" />\n",
              "     <output id=\"result-31b2139f-99c3-4889-a23a-5c34632a9769\">\n",
              "      Upload widget is only available when the cell has been executed in the\n",
              "      current browser session. Please rerun this cell to enable.\n",
              "      </output>\n",
              "      <script>// Copyright 2017 Google LLC\n",
              "//\n",
              "// Licensed under the Apache License, Version 2.0 (the \"License\");\n",
              "// you may not use this file except in compliance with the License.\n",
              "// You may obtain a copy of the License at\n",
              "//\n",
              "//      http://www.apache.org/licenses/LICENSE-2.0\n",
              "//\n",
              "// Unless required by applicable law or agreed to in writing, software\n",
              "// distributed under the License is distributed on an \"AS IS\" BASIS,\n",
              "// WITHOUT WARRANTIES OR CONDITIONS OF ANY KIND, either express or implied.\n",
              "// See the License for the specific language governing permissions and\n",
              "// limitations under the License.\n",
              "\n",
              "/**\n",
              " * @fileoverview Helpers for google.colab Python module.\n",
              " */\n",
              "(function(scope) {\n",
              "function span(text, styleAttributes = {}) {\n",
              "  const element = document.createElement('span');\n",
              "  element.textContent = text;\n",
              "  for (const key of Object.keys(styleAttributes)) {\n",
              "    element.style[key] = styleAttributes[key];\n",
              "  }\n",
              "  return element;\n",
              "}\n",
              "\n",
              "// Max number of bytes which will be uploaded at a time.\n",
              "const MAX_PAYLOAD_SIZE = 100 * 1024;\n",
              "\n",
              "function _uploadFiles(inputId, outputId) {\n",
              "  const steps = uploadFilesStep(inputId, outputId);\n",
              "  const outputElement = document.getElementById(outputId);\n",
              "  // Cache steps on the outputElement to make it available for the next call\n",
              "  // to uploadFilesContinue from Python.\n",
              "  outputElement.steps = steps;\n",
              "\n",
              "  return _uploadFilesContinue(outputId);\n",
              "}\n",
              "\n",
              "// This is roughly an async generator (not supported in the browser yet),\n",
              "// where there are multiple asynchronous steps and the Python side is going\n",
              "// to poll for completion of each step.\n",
              "// This uses a Promise to block the python side on completion of each step,\n",
              "// then passes the result of the previous step as the input to the next step.\n",
              "function _uploadFilesContinue(outputId) {\n",
              "  const outputElement = document.getElementById(outputId);\n",
              "  const steps = outputElement.steps;\n",
              "\n",
              "  const next = steps.next(outputElement.lastPromiseValue);\n",
              "  return Promise.resolve(next.value.promise).then((value) => {\n",
              "    // Cache the last promise value to make it available to the next\n",
              "    // step of the generator.\n",
              "    outputElement.lastPromiseValue = value;\n",
              "    return next.value.response;\n",
              "  });\n",
              "}\n",
              "\n",
              "/**\n",
              " * Generator function which is called between each async step of the upload\n",
              " * process.\n",
              " * @param {string} inputId Element ID of the input file picker element.\n",
              " * @param {string} outputId Element ID of the output display.\n",
              " * @return {!Iterable<!Object>} Iterable of next steps.\n",
              " */\n",
              "function* uploadFilesStep(inputId, outputId) {\n",
              "  const inputElement = document.getElementById(inputId);\n",
              "  inputElement.disabled = false;\n",
              "\n",
              "  const outputElement = document.getElementById(outputId);\n",
              "  outputElement.innerHTML = '';\n",
              "\n",
              "  const pickedPromise = new Promise((resolve) => {\n",
              "    inputElement.addEventListener('change', (e) => {\n",
              "      resolve(e.target.files);\n",
              "    });\n",
              "  });\n",
              "\n",
              "  const cancel = document.createElement('button');\n",
              "  inputElement.parentElement.appendChild(cancel);\n",
              "  cancel.textContent = 'Cancel upload';\n",
              "  const cancelPromise = new Promise((resolve) => {\n",
              "    cancel.onclick = () => {\n",
              "      resolve(null);\n",
              "    };\n",
              "  });\n",
              "\n",
              "  // Wait for the user to pick the files.\n",
              "  const files = yield {\n",
              "    promise: Promise.race([pickedPromise, cancelPromise]),\n",
              "    response: {\n",
              "      action: 'starting',\n",
              "    }\n",
              "  };\n",
              "\n",
              "  cancel.remove();\n",
              "\n",
              "  // Disable the input element since further picks are not allowed.\n",
              "  inputElement.disabled = true;\n",
              "\n",
              "  if (!files) {\n",
              "    return {\n",
              "      response: {\n",
              "        action: 'complete',\n",
              "      }\n",
              "    };\n",
              "  }\n",
              "\n",
              "  for (const file of files) {\n",
              "    const li = document.createElement('li');\n",
              "    li.append(span(file.name, {fontWeight: 'bold'}));\n",
              "    li.append(span(\n",
              "        `(${file.type || 'n/a'}) - ${file.size} bytes, ` +\n",
              "        `last modified: ${\n",
              "            file.lastModifiedDate ? file.lastModifiedDate.toLocaleDateString() :\n",
              "                                    'n/a'} - `));\n",
              "    const percent = span('0% done');\n",
              "    li.appendChild(percent);\n",
              "\n",
              "    outputElement.appendChild(li);\n",
              "\n",
              "    const fileDataPromise = new Promise((resolve) => {\n",
              "      const reader = new FileReader();\n",
              "      reader.onload = (e) => {\n",
              "        resolve(e.target.result);\n",
              "      };\n",
              "      reader.readAsArrayBuffer(file);\n",
              "    });\n",
              "    // Wait for the data to be ready.\n",
              "    let fileData = yield {\n",
              "      promise: fileDataPromise,\n",
              "      response: {\n",
              "        action: 'continue',\n",
              "      }\n",
              "    };\n",
              "\n",
              "    // Use a chunked sending to avoid message size limits. See b/62115660.\n",
              "    let position = 0;\n",
              "    do {\n",
              "      const length = Math.min(fileData.byteLength - position, MAX_PAYLOAD_SIZE);\n",
              "      const chunk = new Uint8Array(fileData, position, length);\n",
              "      position += length;\n",
              "\n",
              "      const base64 = btoa(String.fromCharCode.apply(null, chunk));\n",
              "      yield {\n",
              "        response: {\n",
              "          action: 'append',\n",
              "          file: file.name,\n",
              "          data: base64,\n",
              "        },\n",
              "      };\n",
              "\n",
              "      let percentDone = fileData.byteLength === 0 ?\n",
              "          100 :\n",
              "          Math.round((position / fileData.byteLength) * 100);\n",
              "      percent.textContent = `${percentDone}% done`;\n",
              "\n",
              "    } while (position < fileData.byteLength);\n",
              "  }\n",
              "\n",
              "  // All done.\n",
              "  yield {\n",
              "    response: {\n",
              "      action: 'complete',\n",
              "    }\n",
              "  };\n",
              "}\n",
              "\n",
              "scope.google = scope.google || {};\n",
              "scope.google.colab = scope.google.colab || {};\n",
              "scope.google.colab._files = {\n",
              "  _uploadFiles,\n",
              "  _uploadFilesContinue,\n",
              "};\n",
              "})(self);\n",
              "</script> "
            ]
          },
          "metadata": {}
        },
        {
          "output_type": "stream",
          "name": "stdout",
          "text": [
            "Saving kaggle.json to kaggle.json\n"
          ]
        }
      ]
    },
    {
      "cell_type": "markdown",
      "source": [
        "### Let's download datasets\n",
        "For training our BERT model we will use 3 sources:\n",
        "\n",
        "\n",
        "*   Lingspam dataset\n",
        "*   Spamassassin dataset\n",
        "*   sms-spam-collection\n",
        "\n"
      ],
      "metadata": {
        "id": "a_RThYutPqBj"
      }
    },
    {
      "cell_type": "code",
      "source": [
        "!kaggle datasets download -d mandygu/lingspam-dataset\n",
        "!kaggle datasets download -d uciml/sms-spam-collection-dataset\n",
        "!kaggle datasets download -d bertvankeulen/spamassassin-spam\n",
        "!unzip lingspam-dataset.zip\n",
        "!unzip spamassassin-spam.zip\n",
        "!unzip sms-spam-collection-dataset.zip\n",
        "!rm -rf lingspam-dataset.zip\n",
        "!rm -rf sms-spam-collection-dataset.zip\n",
        "!rm -rf spamassassin-spam.zip"
      ],
      "metadata": {
        "colab": {
          "base_uri": "https://localhost:8080/"
        },
        "id": "EbLyXmqd1QqV",
        "outputId": "59975d54-d785-4caf-a6a0-abca7c51d6e8"
      },
      "execution_count": null,
      "outputs": [
        {
          "output_type": "stream",
          "name": "stdout",
          "text": [
            "Dataset URL: https://www.kaggle.com/datasets/mandygu/lingspam-dataset\n",
            "License(s): unknown\n",
            "Dataset URL: https://www.kaggle.com/datasets/uciml/sms-spam-collection-dataset\n",
            "License(s): unknown\n",
            "Dataset URL: https://www.kaggle.com/datasets/bertvankeulen/spamassassin-spam\n",
            "License(s): apache-2.0\n",
            "Archive:  lingspam-dataset.zip\n",
            "  inflating: messages.csv            \n",
            "Archive:  spamassassin-spam.zip\n",
            "  inflating: SA_SubTxt_fn.csv        \n",
            "Archive:  sms-spam-collection-dataset.zip\n",
            "  inflating: spam.csv                \n"
          ]
        }
      ]
    },
    {
      "cell_type": "markdown",
      "source": [
        "### Functions for data processing"
      ],
      "metadata": {
        "id": "sYrlyyp5QJlQ"
      }
    },
    {
      "cell_type": "code",
      "source": [
        "def load_model_and_tokenizer(model_path_or_name: str):\n",
        "    model = BertForSequenceClassification.from_pretrained(model_path_or_name)\n",
        "    tokenizer = BertTokenizerFast.from_pretrained(model_path_or_name)\n",
        "    return model, tokenizer\n",
        "\n",
        "def process_data(data, tokenizer, column='message', padding=True,\n",
        "                 truncation=True):\n",
        "    return tokenizer(data[column], padding=padding, truncation=truncation)\n",
        "\n",
        "def removeUrlAndHtml(df, column='message'):\n",
        "    regexes = [\n",
        "        r\"https?://\\S+|www\\.\\S+\", r\"<[^>]>\"\n",
        "    ]\n",
        "\n",
        "    for reg in regexes:\n",
        "        df[column] = df[column].str.replace(reg, \"\", regex=True)\n",
        "    return df\n",
        "\n",
        "def preprocess_data(file_mapping, test_size=0.3):\n",
        "    df_concat = pd.DataFrame(columns=['message','label'])\n",
        "    for file, conf in file_mapping.items():\n",
        "        df = pd.read_csv(file, encoding=conf['encoding'], on_bad_lines='skip',\n",
        "                          engine='python')\n",
        "        df.rename(columns=conf['columns'], inplace=True)\n",
        "\n",
        "        if 'map' in conf:\n",
        "            for column, value_mapping in conf['map'].items():\n",
        "                df[column] = df[column].map(value_mapping)\n",
        "        if 'regex' in conf:\n",
        "            for column, regex_exp in conf['regex'].items():\n",
        "                df[column] = df[column].str.replace(regex_exp, \"\", regex=True)\n",
        "\n",
        "        print(f\"Dataset {file} has {len(df)} records.\")\n",
        "        df_concat = pd.concat([df_concat, df[list(conf['columns'].values())]])\n",
        "\n",
        "    print(f\"Total amount of records in consolidated dataset is: \\\n",
        "        {len(df_concat)}\")\n",
        "\n",
        "    # Let's remove urls and html tags\n",
        "    df_concat = removeUrlAndHtml(df_concat)\n",
        "    print(f\"Total amount of records in consolidated dataset is after cleaning \\\n",
        "    urls and html tags: {len(df_concat)}\")\n",
        "\n",
        "    dataset = Dataset.from_pandas(df_concat)\n",
        "    dataset = dataset.train_test_split(test_size=test_size)\n",
        "    return dataset['train'], dataset['test']\n",
        "\n",
        "def prepare_dataset(dataset, tokenizer):\n",
        "    dataset = dataset.map(lambda x: process_data(x, tokenizer), batched=True,\n",
        "                          batch_size=len(dataset))\n",
        "    dataset.set_format(type='torch', columns=['input_ids', 'attention_mask',\n",
        "                                              'label'])\n",
        "    return dataset"
      ],
      "metadata": {
        "id": "mpEZuRrcHyOT"
      },
      "execution_count": null,
      "outputs": []
    },
    {
      "cell_type": "markdown",
      "source": [
        "### Functions for training"
      ],
      "metadata": {
        "id": "_P1AUTesQhhH"
      }
    },
    {
      "cell_type": "code",
      "source": [
        "def train(model, train_dataset, output_dir='./results', log_dir='./logs',\n",
        "          epochs=10, batch_size=16):\n",
        "    training_args = TrainingArguments(\n",
        "        output_dir=output_dir,\n",
        "        num_train_epochs=epochs,\n",
        "        per_device_train_batch_size=batch_size,\n",
        "        warmup_steps=500,\n",
        "        weight_decay=0.01,\n",
        "        eval_strategy=\"no\",\n",
        "        logging_dir=log_dir,\n",
        "        # fp16=True,\n",
        "    )\n",
        "\n",
        "    trainer = Trainer(\n",
        "        model=model,\n",
        "        args=training_args,\n",
        "        train_dataset=train_dataset,\n",
        "    )\n",
        "\n",
        "    trainer.train()\n",
        "\n",
        "    return trainer"
      ],
      "metadata": {
        "id": "Wf0zfqBXQmSi"
      },
      "execution_count": null,
      "outputs": []
    },
    {
      "cell_type": "markdown",
      "source": [
        "### Functions for evaluation"
      ],
      "metadata": {
        "id": "UsGjYKt9Qs1l"
      }
    },
    {
      "cell_type": "code",
      "source": [
        "def evaluate(trainer, test_dataset):\n",
        "    predictions = trainer.predict(test_dataset)\n",
        "    predicted_labels = predictions.predictions.argmax(axis=-1)\n",
        "    true_labels = test_dataset['label'].numpy()\n",
        "\n",
        "    print(classification_report(true_labels, predicted_labels))\n",
        "\n",
        "    cm = confusion_matrix(true_labels, predicted_labels)\n",
        "    disp = ConfusionMatrixDisplay(confusion_matrix=cm, display_labels=[\"HAM\", \"SPAM\"])\n",
        "    disp.plot()"
      ],
      "metadata": {
        "id": "q-16Tcr0QwMR"
      },
      "execution_count": null,
      "outputs": []
    },
    {
      "cell_type": "markdown",
      "source": [
        "### Main Workflow"
      ],
      "metadata": {
        "id": "xbV1L8IjQ4_l"
      }
    },
    {
      "cell_type": "code",
      "source": [
        "def main(train_new_model=True):\n",
        "    file_mapping = {\n",
        "        './messages.csv':\n",
        "        {\n",
        "            'columns': {\n",
        "                'label': 'label',\n",
        "                'message': 'message',\n",
        "            },\n",
        "            'encoding': 'utf-8',\n",
        "        },\n",
        "        './spam.csv':\n",
        "        {\n",
        "            'columns': {\n",
        "                'v1': 'label',\n",
        "                'v2': 'message',\n",
        "            },\n",
        "            'encoding': 'latin-1',\n",
        "            'map': {\n",
        "                'label': {\n",
        "                    'ham': 0,\n",
        "                    'spam': 1,\n",
        "                }\n",
        "            }\n",
        "        },\n",
        "        './SA_SubTxt_fn.csv':\n",
        "        {\n",
        "            'columns': {\n",
        "                'label': 'label',\n",
        "                'data': 'message',\n",
        "            },\n",
        "            'encoding': 'utf-8',\n",
        "            'regex': {\n",
        "                'message': r\"^\\[|\\]$\"\n",
        "            },\n",
        "        }\n",
        "    }\n",
        "\n",
        "    if train_new_model:\n",
        "\n",
        "        test_size = 0.3\n",
        "        model_path = 'bert-base-uncased'  # Pretrained model base\n",
        "        model, tokenizer = load_model_and_tokenizer(model_path)\n",
        "\n",
        "        train_set, test_set = preprocess_data(file_mapping, test_size)\n",
        "\n",
        "        train_set = prepare_dataset(train_set, tokenizer)\n",
        "        test_set = prepare_dataset(test_set, tokenizer)\n",
        "\n",
        "        trainer = train(model, train_set)\n",
        "\n",
        "        # Save model and tokenizer\n",
        "        trainer.save_model('./saved_model')\n",
        "        tokenizer.save_pretrained('./saved_model')\n",
        "\n",
        "        # Zip the result directory\n",
        "        shutil.make_archive('saved_model', 'zip', './saved_model')\n",
        "        files.download('saved_model.zip')\n",
        "\n",
        "    else:\n",
        "        # Load already saved model\n",
        "        model, tokenizer = load_model_and_tokenizer('./saved_model')\n",
        "\n",
        "        _, test_set = preprocess_data(file_mapping)\n",
        "        test_set = prepare_dataset(test_set, tokenizer)\n",
        "\n",
        "        trainer = Trainer(model=model)  # No need for training arguments when just evaluating\n",
        "\n",
        "    # Evaluate in both cases\n",
        "    evaluate(trainer, test_set)\n",
        "main(False)"
      ],
      "metadata": {
        "colab": {
          "base_uri": "https://localhost:8080/",
          "height": 724,
          "referenced_widgets": [
            "6d57e26ce5f34360a6106862a8195d3c",
            "183f36986e1a445e8dcda3b6d298a59d",
            "2d518f42197740268f1c1eb46229cdf8",
            "bd8b71fc5df043feb3ea63c42959c822",
            "15be6692cf5f45b3a0c12e1e1cd19f80",
            "3bf3433908f749d19342e92443dfccd8",
            "043f59fa6ef04d6a8c272f3ee3c22f00",
            "f573d8015e224665bede324d05a1bf62",
            "d7832dcc6dd44cf2a93ec9daff4dd5ab",
            "f258c47776d64a88bcb2f522342c5de2",
            "3c749f1e666a48c284ef4f5f645badd6"
          ]
        },
        "id": "gjZtpSFOQ3H6",
        "outputId": "7611cc27-92ee-45d0-dd0e-8898292605a1"
      },
      "execution_count": null,
      "outputs": [
        {
          "output_type": "stream",
          "name": "stdout",
          "text": [
            "Dataset ./messages.csv has 2893 records.\n",
            "Dataset ./spam.csv has 5572 records.\n",
            "Dataset ./SA_SubTxt_fn.csv has 6046 records.\n",
            "Total amount of records in consolidated dataset is:         14511\n",
            "Total amount of records in consolidated dataset is after cleaning     urls and html tags: 14511\n"
          ]
        },
        {
          "output_type": "display_data",
          "data": {
            "text/plain": [
              "Map:   0%|          | 0/4354 [00:00<?, ? examples/s]"
            ],
            "application/vnd.jupyter.widget-view+json": {
              "version_major": 2,
              "version_minor": 0,
              "model_id": "6d57e26ce5f34360a6106862a8195d3c"
            }
          },
          "metadata": {}
        },
        {
          "output_type": "display_data",
          "data": {
            "text/plain": [
              "<IPython.core.display.HTML object>"
            ],
            "text/html": []
          },
          "metadata": {}
        },
        {
          "output_type": "stream",
          "name": "stdout",
          "text": [
            "              precision    recall  f1-score   support\n",
            "\n",
            "           0       1.00      1.00      1.00      3366\n",
            "           1       0.99      0.99      0.99       988\n",
            "\n",
            "    accuracy                           1.00      4354\n",
            "   macro avg       1.00      1.00      1.00      4354\n",
            "weighted avg       1.00      1.00      1.00      4354\n",
            "\n"
          ]
        },
        {
          "output_type": "display_data",
          "data": {
            "text/plain": [
              "<Figure size 640x480 with 2 Axes>"
            ],
            "image/png": "[encoded data removed]"
          },
          "metadata": {}
        }
      ]
    }
  ]
}